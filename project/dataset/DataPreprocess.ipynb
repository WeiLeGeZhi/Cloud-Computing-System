{
 "cells": [
  {
   "cell_type": "code",
   "execution_count": 8,
   "id": "406689b6",
   "metadata": {},
   "outputs": [
    {
     "name": "stdout",
     "output_type": "stream",
     "text": [
      "       Province/State  Country/Region Last Update  Confirmed  Suspected  \\\n",
      "0            Shanghai  Mainland China  2020-01-21        9.0       10.0   \n",
      "1              Yunnan  Mainland China  2020-01-21        1.0        0.0   \n",
      "2             Beijing  Mainland China  2020-01-21       10.0        0.0   \n",
      "3              Taiwan  Mainland China  2020-01-21        1.0        0.0   \n",
      "4               Jilin  Mainland China  2020-01-21        0.0        1.0   \n",
      "...               ...             ...         ...        ...        ...   \n",
      "4734            Hebei  Mainland China  2020-02-02      113.0        0.0   \n",
      "4739           Hainan  Mainland China  2020-02-01       64.0        0.0   \n",
      "4741          Tianjin  Mainland China  2020-02-01       48.0        0.0   \n",
      "4754       Queensland       Australia  2020-02-01        2.0        0.0   \n",
      "4803  South Australia       Australia  2020-02-01        2.0        0.0   \n",
      "\n",
      "      Recovered  Death  \n",
      "0           0.0    0.0  \n",
      "1           0.0    0.0  \n",
      "2           0.0    0.0  \n",
      "3           0.0    0.0  \n",
      "4           0.0    0.0  \n",
      "...         ...    ...  \n",
      "4734        3.0    1.0  \n",
      "4739        4.0    1.0  \n",
      "4741        1.0    0.0  \n",
      "4754        0.0    0.0  \n",
      "4803        0.0    0.0  \n",
      "\n",
      "[909 rows x 7 columns]\n"
     ]
    }
   ],
   "source": [
    "import pandas as pd\n",
    "import glob\n",
    "\n",
    "# 获取所有csv文件的文件名\n",
    "csv_files = glob.glob('./*.csv')\n",
    "\n",
    "# 创建一个空的DataFrame用于存储合并后的数据\n",
    "merged_data = pd.DataFrame()\n",
    "\n",
    "# 遍历所有csv文件\n",
    "for file in csv_files:\n",
    "    # 读取csv文件\n",
    "    df = pd.read_csv(file)\n",
    "\n",
    "    # 将Confirmed、Suspected、Recovered和Death列中的空值赋为0\n",
    "    df[['Confirmed', 'Suspected', 'Recovered', 'Death']] = df[['Confirmed', 'Suspected', 'Recovered', 'Death']].fillna(0)\n",
    "\n",
    "    # 删除Province/State、Country/Region和Last Update列有缺失值的行\n",
    "    df = df.dropna(subset=['Province/State', 'Country/Region', 'Last Update'])\n",
    "\n",
    "    # 格式统一化处理\n",
    "    df['Last Update'] = pd.to_datetime(df['Last Update'], errors='coerce').dt.strftime('%Y-%m-%d')\n",
    "\n",
    "    # 删除不符合格式的行\n",
    "    df = df.dropna(subset=['Last Update'])\n",
    "\n",
    "    # 合并数据到总的DataFrame\n",
    "    merged_data = pd.concat([merged_data, df], ignore_index=True)\n",
    "\n",
    "# 去重\n",
    "merged_data = merged_data.drop_duplicates()\n",
    "\n",
    "# 打印合并后的数据\n",
    "print(merged_data)\n",
    "\n",
    "# 将合并后的数据保存为新的csv文件\n",
    "merged_data.to_excel('./covid_data.xlsx', index=False)"
   ]
  },
  {
   "cell_type": "code",
   "execution_count": null,
   "id": "48e4f444",
   "metadata": {},
   "outputs": [],
   "source": []
  }
 ],
 "metadata": {
  "kernelspec": {
   "display_name": "Python 3 (ipykernel)",
   "language": "python",
   "name": "python3"
  },
  "language_info": {
   "codemirror_mode": {
    "name": "ipython",
    "version": 3
   },
   "file_extension": ".py",
   "mimetype": "text/x-python",
   "name": "python",
   "nbconvert_exporter": "python",
   "pygments_lexer": "ipython3",
   "version": "3.10.9"
  }
 },
 "nbformat": 4,
 "nbformat_minor": 5
}
